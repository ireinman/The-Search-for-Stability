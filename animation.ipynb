{
 "cells": [
  {
   "cell_type": "code",
   "execution_count": 1,
   "metadata": {
    "collapsed": false,
    "jupyter": {
     "outputs_hidden": false
    },
    "pycharm": {
     "name": "#%%\n"
    }
   },
   "outputs": [],
   "source": [
    "from utils.animation_utils import animate_the_dynamics, PRP, LINEAR, SOFTMAX"
   ]
  },
  {
   "cell_type": "markdown",
   "metadata": {
    "collapsed": false,
    "jupyter": {
     "outputs_hidden": false
    },
    "pycharm": {
     "name": "#%% md\n"
    }
   },
   "source": [
    "# Visualize the Game!\n",
    "The following cell allows you to visualize the Discrete Better Response Dynamics Simulation of a publishers' game. Just run the below cell, or play around with the following parameters:\n",
    "* `ranking_function` $\\in$ {`PRP`, `LINEAR`, `SOFTMAX`}\n",
    "* `k`, the embedding space dimension. If you choose $k > 2$, only the first two dimensions of the embedding space are plotted.\n",
    "* `n`, the number of publishers.\n",
    "* `lam` ($\\lambda$), the factor of the cost for providing content that is different from the initial document.\n",
    "* `T`, the length of the simulation. You can choose $T$='inf'.\n",
    "* `interval`, the time in ms between frames.\n",
    "* If ranking_function is `LINEAR`, you can tune the slope `a`.\n",
    "* If ranking_function is `SOFTMAX`, you can tune the inverse temperature constant `beta`.\n",
    "\n",
    "* You can pass specific `x_0` (of shape $n \\times k$) and `x_star` (of shape $k$) if you are interested in a specific instance.\n",
    "* Optionally, if you want to save the animation to a .mp4 instead of showing it, pass a `path` argument."
   ]
  },
  {
   "cell_type": "code",
   "execution_count": 2,
   "metadata": {
    "collapsed": false,
    "jupyter": {
     "outputs_hidden": false
    },
    "pycharm": {
     "name": "#%%\n"
    }
   },
   "outputs": [],
   "source": [
    "animate_the_dynamics(ranking_function=PRP,\n",
    "                                 k=2,\n",
    "                                 n=2,\n",
    "                                 lam=0.5,\n",
    "                                 T=1000,\n",
    "                                 interval=150,\n",
    "                                 x_0=None,\n",
    "                                 x_star=None)"
   ]
  }
 ],
 "metadata": {
  "kernelspec": {
   "display_name": "Python 3 (ipykernel)",
   "language": "python",
   "name": "python3"
  },
  "language_info": {
   "codemirror_mode": {
    "name": "ipython",
    "version": 3
   },
   "file_extension": ".py",
   "mimetype": "text/x-python",
   "name": "python",
   "nbconvert_exporter": "python",
   "pygments_lexer": "ipython3",
   "version": "3.11.9"
  }
 },
 "nbformat": 4,
 "nbformat_minor": 4
}
